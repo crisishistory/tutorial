{
 "cells": [
  {
   "cell_type": "markdown",
   "metadata": {},
   "source": [
    "## Using the Terminal\n",
    "\n",
    "### Compressing Files\n",
    "\n",
    "To compress the file 10062023_Mat_TraviesoDiaz.qt, run the following command in the terminal:"
   ]
  },
  {
   "cell_type": "code",
   "execution_count": null,
   "metadata": {
    "vscode": {
     "languageId": "shellscript"
    }
   },
   "outputs": [],
   "source": [
    "tar -czvf 10062023_Mat_TraviesoDiaz.qt.tar.gz 10062023_Mat_TraviesoDiaz.qt"
   ]
  },
  {
   "cell_type": "markdown",
   "metadata": {},
   "source": [
    "If the command succeeds, you should see a new file called 10062023_Mat_TraviesoDiaz.tar.gz in the same folder as the original file.\n",
    "\n",
    "Check by listing the files in the folder:"
   ]
  },
  {
   "cell_type": "code",
   "execution_count": null,
   "metadata": {
    "vscode": {
     "languageId": "shellscript"
    }
   },
   "outputs": [],
   "source": [
    "ls -asl"
   ]
  }
 ],
 "metadata": {
  "language_info": {
   "name": "python"
  }
 },
 "nbformat": 4,
 "nbformat_minor": 2
}
