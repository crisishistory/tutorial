{
 "cells": [
  {
   "cell_type": "markdown",
   "metadata": {},
   "source": [
    "# Understanding GitHub and Markdown\n",
    "\n",
    "Notes from walkthrough Saturday, 2023-10-07 with @audreyfeldroy @pydanny @ProfessorTerrence @HistorianRose\n",
    "\n",
    "## What is GitHub?\n",
    "\n",
    "GitHub is for:\n",
    "\n",
    "#. Code collaboration and version control\n",
    "#. Documentation and knowledge sharing\n",
    "#. Project management for software teams\n",
    "\n",
    "## What is Markdown?\n",
    "\n",
    "Markdown is:\n",
    "\n",
    "#. A lightweight markup language with plain text formatting syntax\n",
    "#. Can be converted to HTML/XHTML and other formats\n",
    "#. Often used to format readme files, for writing messages in online discussion forums, and to create rich text using a plain text editor\n",
    "\n",
    "Markdown files end with the extension `.md` or `.markdown`.\n",
    "\n",
    "We use what is called \"GitHub Flavored Markdown\" (GFM) which is a superset of standard Markdown. GFM is described in [this guide](https://guides.github.com/features/mastering-markdown/)."
   ]
  }
 ],
 "metadata": {
  "language_info": {
   "name": "python"
  }
 },
 "nbformat": 4,
 "nbformat_minor": 2
}
