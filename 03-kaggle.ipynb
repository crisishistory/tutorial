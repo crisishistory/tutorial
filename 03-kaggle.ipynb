{
 "cells": [
  {
   "cell_type": "markdown",
   "metadata": {},
   "source": [
    "# Introducing Kaggle\n",
    "\n",
    "## What is Kaggle?\n",
    "\n",
    "Kaggle is a platform that is best known for data science competitions. There, you can find datasets, data science competitions, and the best data scientists in the world. \n",
    "\n",
    "Kaggle is also used for publishing and sharing data, code, and data science projects. "
   ]
  },
  {
   "cell_type": "code",
   "execution_count": null,
   "metadata": {},
   "outputs": [],
   "source": []
  }
 ],
 "metadata": {
  "language_info": {
   "name": "python"
  }
 },
 "nbformat": 4,
 "nbformat_minor": 2
}
